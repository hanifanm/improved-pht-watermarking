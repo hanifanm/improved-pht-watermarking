{
 "cells": [
  {
   "cell_type": "code",
   "execution_count": null,
   "metadata": {},
   "outputs": [],
   "source": [
    "from matplotlib import pyplot as plt\n",
    "import numpy as np\n",
    "import cv2\n",
    "import time, sys\n",
    "from IPython.display import clear_output, display\n",
    "from time import sleep\n",
    "import random\n",
    "from tabulate import tabulate"
   ]
  },
  {
   "cell_type": "code",
   "execution_count": null,
   "metadata": {},
   "outputs": [],
   "source": [
    "%run -i ./Classes.ipynb"
   ]
  },
  {
   "cell_type": "code",
   "execution_count": null,
   "metadata": {
    "scrolled": false
   },
   "outputs": [],
   "source": [
    "# Load\n",
    "ori_img = cv2.imread('./assets/peppers.png') #BGR\n",
    "ori_logo = cv2.imread('./assets/shuriken.png', 0)\n",
    "\n",
    "image_size = 256\n",
    "logo_size = 20\n",
    "q_step = 0.5\n",
    "tf_step = 30\n",
    "\n",
    "\n",
    "ImageUtil.show1(ori_img, 'Image', 4)\n",
    "ImageUtil.show1(ori_logo, 'Logo', 4)"
   ]
  },
  {
   "cell_type": "code",
   "execution_count": null,
   "metadata": {},
   "outputs": [],
   "source": [
    "def get_attacked_version(image, image_size_):\n",
    "    \n",
    "    a_fa = Attacker.filter_average(image, 3)\n",
    "    a_nsp = Attacker.noise_salt_pepper(image, 0.01)\n",
    "    \n",
    "    resize_size = int(0.75 * image_size_)\n",
    "    if(resize_size % 2 == 1): resize_size = resize_size + 1\n",
    "    a_res = Attacker.resize(image, resize_size)\n",
    "    a_rot = Attacker.rotate(image, -45)\n",
    "    a_cro = Attacker.crop(image, 0.03, 0.03, 0.03, 0.03)\n",
    "    a_jpg = Attacker.jpeg_compress(image, 75)\n",
    "    \n",
    "    return [\n",
    "        Image(np.copy(image), image_size_),\n",
    "        Image(a_fa, image_size_),\n",
    "        Image(a_nsp, image_size_),\n",
    "        Image(a_res, resize_size),\n",
    "        Image(a_rot, image_size_),\n",
    "        Image(a_cro, image_size_),\n",
    "        Image(a_jpg, image_size_),\n",
    "    ]"
   ]
  },
  {
   "cell_type": "code",
   "execution_count": null,
   "metadata": {},
   "outputs": [],
   "source": []
  },
  {
   "cell_type": "markdown",
   "metadata": {},
   "source": [
    "# Test Quantization Step"
   ]
  },
  {
   "cell_type": "code",
   "execution_count": null,
   "metadata": {
    "scrolled": false
   },
   "outputs": [],
   "source": [
    "test_d_results = []\n",
    "test_d_images = []\n",
    "test_d_logos = []\n",
    "\n",
    "for dd in [0.2, 0.4, 0.6, 0.8, 1]:\n",
    "# for dd in [0.4, 0.6]:\n",
    "    \n",
    "    # Parameter setup\n",
    "    n = image_size\n",
    "    g = logo_size\n",
    "    d = dd\n",
    "    \n",
    "    # Initialize\n",
    "    test_image = Image(ori_img, n)\n",
    "    test_logo = Logo(ori_logo, g)\n",
    "\n",
    "    # Create Watermarker\n",
    "    emb_riw = RIW(n, g, 2 * g, d, tf_step)\n",
    "\n",
    "    # Embed\n",
    "    img_y_watermarked = emb_riw.embed(test_image.get_y(), test_logo.logo)\n",
    "    watermarked_image = Image.copy(test_image)\n",
    "    watermarked_image.set_y(img_y_watermarked)\n",
    "\n",
    "    # Calculate PSNR\n",
    "    psnr = ImageUtil.psnr(test_image.image, watermarked_image.image)\n",
    "\n",
    "    # Attack\n",
    "    attacked_images = get_attacked_version(watermarked_image.image, n)\n",
    "    \n",
    "    temp_images = []\n",
    "    temp_logos = []\n",
    "    temp_results = [n, g, d, psnr]\n",
    "    \n",
    "    # Process All attacked images\n",
    "    for attacked_image in attacked_images:\n",
    "        \n",
    "        ext_riw = RIW(attacked_image.image_size, g, 2 * g, d, tf_step)\n",
    "        \n",
    "        # Extract\n",
    "        logo_extracted = ext_riw.extract(attacked_image.get_y())\n",
    "\n",
    "        # Calculate BER\n",
    "        ber = ImageUtil.ber(test_logo.logo, logo_extracted)\n",
    "        \n",
    "        temp_images.append(attacked_image.image)\n",
    "        temp_logos.append(logo_extracted)\n",
    "        temp_results.append(ber)\n",
    "        \n",
    "    test_d_images.append(temp_images)\n",
    "    test_d_logos.append(temp_logos)\n",
    "    test_d_results.append(temp_results)"
   ]
  },
  {
   "cell_type": "code",
   "execution_count": null,
   "metadata": {},
   "outputs": [],
   "source": [
    "print(tabulate(test_d_results, headers=['Image Size', 'Logo Size', 'Q Step', 'PSNR', 'BER', 'BER', 'BER', 'BER', 'BER', 'BER', 'BER']))"
   ]
  },
  {
   "cell_type": "code",
   "execution_count": null,
   "metadata": {},
   "outputs": [],
   "source": [
    "ImageUtil.show(test_d_images, None, 5)"
   ]
  },
  {
   "cell_type": "code",
   "execution_count": null,
   "metadata": {},
   "outputs": [],
   "source": [
    "ImageUtil.show(test_d_logos, None, 5)"
   ]
  },
  {
   "cell_type": "code",
   "execution_count": null,
   "metadata": {},
   "outputs": [],
   "source": []
  },
  {
   "cell_type": "markdown",
   "metadata": {},
   "source": [
    "# Test Logo Size"
   ]
  },
  {
   "cell_type": "code",
   "execution_count": null,
   "metadata": {
    "scrolled": true
   },
   "outputs": [],
   "source": [
    "test_g_results = []\n",
    "test_g_images = []\n",
    "test_g_logos = []\n",
    "\n",
    "for gg in [12, 20, 28, 36]:\n",
    "# for gg in [12, 20]:\n",
    "    \n",
    "    # Parameter setup\n",
    "    n = image_size\n",
    "    g = gg\n",
    "    d = q_step\n",
    "    \n",
    "    # Initialize\n",
    "    test_image = Image(ori_img, n)\n",
    "    test_logo = Logo(ori_logo, g)\n",
    "\n",
    "    # Create Watermarker\n",
    "    emb_riw = RIW(n, g, 2 * g, d, tf_step)\n",
    "\n",
    "    # Embed\n",
    "    img_y_watermarked = emb_riw.embed(test_image.get_y(), test_logo.logo)\n",
    "    watermarked_image = Image.copy(test_image)\n",
    "    watermarked_image.set_y(img_y_watermarked)\n",
    "\n",
    "    # Calculate PSNR\n",
    "    psnr = ImageUtil.psnr(test_image.image, watermarked_image.image)\n",
    "\n",
    "    # Attack\n",
    "    attacked_images = get_attacked_version(watermarked_image.image, n)\n",
    "    \n",
    "    temp_images = []\n",
    "    temp_logos = []\n",
    "    temp_results = [n, g, d, psnr]\n",
    "    \n",
    "    # Process All attacked images\n",
    "    for attacked_image in attacked_images:\n",
    "        \n",
    "        ext_riw = RIW(attacked_image.image_size, g, 2 * g, d, tf_step)\n",
    "        \n",
    "        # Extract\n",
    "        logo_extracted = ext_riw.extract(attacked_image.get_y())\n",
    "\n",
    "        # Calculate BER\n",
    "        ber = ImageUtil.ber(test_logo.logo, logo_extracted)\n",
    "        \n",
    "        temp_images.append(attacked_image.image)\n",
    "        temp_logos.append(logo_extracted)\n",
    "        temp_results.append(ber)\n",
    "        \n",
    "    test_g_images.append(temp_images)\n",
    "    test_g_logos.append(temp_logos)\n",
    "    test_g_results.append(temp_results)"
   ]
  },
  {
   "cell_type": "code",
   "execution_count": null,
   "metadata": {},
   "outputs": [],
   "source": [
    "print(tabulate(test_g_results, headers=['Image Size', 'Logo Size', 'Q Step', 'PSNR', 'BER', 'BER', 'BER', 'BER', 'BER', 'BER', 'BER']))"
   ]
  },
  {
   "cell_type": "code",
   "execution_count": null,
   "metadata": {},
   "outputs": [],
   "source": [
    "ImageUtil.show(test_g_images, None, 5)"
   ]
  },
  {
   "cell_type": "code",
   "execution_count": null,
   "metadata": {},
   "outputs": [],
   "source": [
    "ImageUtil.show(test_g_logos, None, 5)"
   ]
  },
  {
   "cell_type": "code",
   "execution_count": null,
   "metadata": {},
   "outputs": [],
   "source": []
  },
  {
   "cell_type": "markdown",
   "metadata": {},
   "source": [
    "# Test Image Size"
   ]
  },
  {
   "cell_type": "code",
   "execution_count": null,
   "metadata": {},
   "outputs": [],
   "source": [
    "test_n_results = []\n",
    "test_n_images = []\n",
    "test_n_logos = []\n",
    "\n",
    "for nn in [100, 200, 300, 400]:\n",
    "# for nn in [100, 200]:\n",
    "    \n",
    "    # Parameter setup\n",
    "    n = nn\n",
    "    g = logo_size\n",
    "    d = q_step\n",
    "    \n",
    "    # Initialize\n",
    "    test_image = Image(ori_img, n)\n",
    "    test_logo = Logo(ori_logo, g)\n",
    "\n",
    "    # Create Watermarker\n",
    "    emb_riw = RIW(n, g, 2 * g, d, 50)\n",
    "\n",
    "    # Embed\n",
    "    img_y_watermarked = emb_riw.embed(test_image.get_y(), test_logo.logo)\n",
    "    watermarked_image = Image.copy(test_image)\n",
    "    watermarked_image.set_y(img_y_watermarked)\n",
    "\n",
    "    # Calculate PSNR\n",
    "    psnr = ImageUtil.psnr(test_image.image, watermarked_image.image)\n",
    "\n",
    "    # Attack\n",
    "    attacked_images = get_attacked_version(watermarked_image.image, n)\n",
    "    \n",
    "    temp_images = []\n",
    "    temp_logos = []\n",
    "    temp_results = [n, g, d, psnr]\n",
    "    \n",
    "    # Process All attacked images\n",
    "    for attacked_image in attacked_images:\n",
    "        \n",
    "        ext_riw = RIW(attacked_image.image_size, g, 2 * g, d, 50)\n",
    "        \n",
    "        # Extract\n",
    "        logo_extracted = ext_riw.extract(attacked_image.get_y())\n",
    "\n",
    "        # Calculate BER\n",
    "        ber = ImageUtil.ber(test_logo.logo, logo_extracted)\n",
    "        \n",
    "        temp_images.append(attacked_image.image)\n",
    "        temp_logos.append(logo_extracted)\n",
    "        temp_results.append(ber)\n",
    "        \n",
    "    test_n_images.append(temp_images)\n",
    "    test_n_logos.append(temp_logos)\n",
    "    test_n_results.append(temp_results)"
   ]
  },
  {
   "cell_type": "code",
   "execution_count": null,
   "metadata": {},
   "outputs": [],
   "source": [
    "print(tabulate(test_n_results, headers=['Image Size', 'Logo Size', 'Q Step', 'PSNR', 'BER', 'BER', 'BER', 'BER', 'BER', 'BER', 'BER']))"
   ]
  },
  {
   "cell_type": "code",
   "execution_count": null,
   "metadata": {},
   "outputs": [],
   "source": [
    "ImageUtil.show(test_n_images, None, 5)"
   ]
  },
  {
   "cell_type": "code",
   "execution_count": null,
   "metadata": {},
   "outputs": [],
   "source": [
    "ImageUtil.show(test_n_logos, None, 5)"
   ]
  },
  {
   "cell_type": "code",
   "execution_count": null,
   "metadata": {},
   "outputs": [],
   "source": []
  }
 ],
 "metadata": {
  "kernelspec": {
   "display_name": "Python 3",
   "language": "python",
   "name": "python3"
  },
  "language_info": {
   "codemirror_mode": {
    "name": "ipython",
    "version": 3
   },
   "file_extension": ".py",
   "mimetype": "text/x-python",
   "name": "python",
   "nbconvert_exporter": "python",
   "pygments_lexer": "ipython3",
   "version": "3.7.1"
  }
 },
 "nbformat": 4,
 "nbformat_minor": 4
}
